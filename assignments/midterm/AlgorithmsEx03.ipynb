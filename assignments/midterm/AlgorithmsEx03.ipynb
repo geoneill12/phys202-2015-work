{
 "cells": [
  {
   "cell_type": "markdown",
   "metadata": {
    "nbgrader": {}
   },
   "source": [
    "# Algorithms Exercise 3"
   ]
  },
  {
   "cell_type": "markdown",
   "metadata": {
    "nbgrader": {}
   },
   "source": [
    "## Imports"
   ]
  },
  {
   "cell_type": "code",
   "execution_count": 1,
   "metadata": {
    "collapsed": true,
    "nbgrader": {}
   },
   "outputs": [],
   "source": [
    "%matplotlib inline\n",
    "from matplotlib import pyplot as plt\n",
    "import numpy as np"
   ]
  },
  {
   "cell_type": "code",
   "execution_count": 2,
   "metadata": {
    "collapsed": false,
    "nbgrader": {}
   },
   "outputs": [
    {
     "name": "stderr",
     "output_type": "stream",
     "text": [
      ":0: FutureWarning: IPython widgets are experimental and may change in the future.\n"
     ]
    }
   ],
   "source": [
    "from IPython.html.widgets import interact"
   ]
  },
  {
   "cell_type": "markdown",
   "metadata": {
    "nbgrader": {}
   },
   "source": [
    "## Character counting and entropy"
   ]
  },
  {
   "cell_type": "markdown",
   "metadata": {
    "nbgrader": {}
   },
   "source": [
    "Write a function `char_probs` that takes a string and computes the probabilities of each character in the string:\n",
    "\n",
    "* First do a character count and store the result in a dictionary.\n",
    "* Then divide each character counts by the total number of character to compute the normalized probabilties.\n",
    "* Return the dictionary of characters (keys) and probabilities (values)."
   ]
  },
  {
   "cell_type": "code",
   "execution_count": 23,
   "metadata": {
    "collapsed": false,
    "nbgrader": {
     "checksum": "f11bac096ada913538c9a47721fb98a1",
     "solution": true
    }
   },
   "outputs": [
    {
     "name": "stdout",
     "output_type": "stream",
     "text": [
      "{'q': 0, 't': 0, 'b': 2, 'c': 0, 'n': 0, 'z': 0, 'o': 0, 'u': 0, 'h': 1, 'r': 0, 'd': 0, 'j': 0, 'p': 0, 'a': 0, 'g': 0, 'x': 0, 'e': 2, 'f': 0, 'k': 0, 'v': 0, 'y': 0, 'm': 0, 'i': 1, 'l': 0, 's': 0, 'w': 0}\n"
     ]
    }
   ],
   "source": [
    "def char_probs(s):\n",
    "    \"\"\"Find the probabilities of the unique characters in the string s.\n",
    "    \n",
    "    Parameters\n",
    "    ----------\n",
    "    s : str\n",
    "        A string of characters.\n",
    "    \n",
    "    Returns\n",
    "    -------\n",
    "    probs : dict\n",
    "        A dictionary whose keys are the unique characters in s and whose values\n",
    "        are the probabilities of those characters.\n",
    "    \"\"\"\n",
    "    a = len(s)\n",
    "    b = list(s)\n",
    "    dict1 = {'a':1, 'b':2, 'c':3, 'd':4, 'e':5, 'f':6, 'g':7, 'h':8, 'i':9, 'j':10, 'k':11, 'l':12, 'm':13, 'n':14, 'o':15, 'p':16, 'q':17, 'r':18, 's':19, 't':20, 'u':21, 'v':22, 'w':23, 'x':24, 'y':25, 'z':26}\n",
    "    dict2 = {'a':0, 'b':0, 'c':0, 'd':0, 'e':0, 'f':0, 'g':0, 'h':0, 'i':0, 'j':0, 'k':0, 'l':0, 'm':0, 'n':0, 'o':0, 'p':0, 'q':0, 'r':0, 's':0, 't':0, 'u':0, 'v':0, 'w':0, 'x':0, 'y':0, 'z':0}\n",
    "    for item in b:\n",
    "        dict2[item] += 1\n",
    "    for key in dict2:\n",
    "        print \n",
    "    return dict2\n",
    "\n",
    "print(char_probs('hibebe'))"
   ]
  },
  {
   "cell_type": "code",
   "execution_count": 19,
   "metadata": {
    "collapsed": false,
    "deletable": false,
    "nbgrader": {
     "checksum": "97f4091c66f9a555c766706bcf4a7681",
     "grade": true,
     "grade_id": "algorithmsex03a",
     "points": 4
    }
   },
   "outputs": [
    {
     "ename": "AssertionError",
     "evalue": "",
     "output_type": "error",
     "traceback": [
      "\u001b[1;31m---------------------------------------------------------------------------\u001b[0m",
      "\u001b[1;31mAssertionError\u001b[0m                            Traceback (most recent call last)",
      "\u001b[1;32m<ipython-input-19-7884295ffbe7>\u001b[0m in \u001b[0;36m<module>\u001b[1;34m()\u001b[0m\n\u001b[0;32m      1\u001b[0m \u001b[0mtest1\u001b[0m \u001b[1;33m=\u001b[0m \u001b[0mchar_probs\u001b[0m\u001b[1;33m(\u001b[0m\u001b[1;34m'aaaa'\u001b[0m\u001b[1;33m)\u001b[0m\u001b[1;33m\u001b[0m\u001b[0m\n\u001b[1;32m----> 2\u001b[1;33m \u001b[1;32massert\u001b[0m \u001b[0mnp\u001b[0m\u001b[1;33m.\u001b[0m\u001b[0mallclose\u001b[0m\u001b[1;33m(\u001b[0m\u001b[0mtest1\u001b[0m\u001b[1;33m[\u001b[0m\u001b[1;34m'a'\u001b[0m\u001b[1;33m]\u001b[0m\u001b[1;33m,\u001b[0m \u001b[1;36m1.0\u001b[0m\u001b[1;33m)\u001b[0m\u001b[1;33m\u001b[0m\u001b[0m\n\u001b[0m\u001b[0;32m      3\u001b[0m \u001b[0mtest2\u001b[0m \u001b[1;33m=\u001b[0m \u001b[0mchar_probs\u001b[0m\u001b[1;33m(\u001b[0m\u001b[1;34m'aabb'\u001b[0m\u001b[1;33m)\u001b[0m\u001b[1;33m\u001b[0m\u001b[0m\n\u001b[0;32m      4\u001b[0m \u001b[1;32massert\u001b[0m \u001b[0mnp\u001b[0m\u001b[1;33m.\u001b[0m\u001b[0mallclose\u001b[0m\u001b[1;33m(\u001b[0m\u001b[0mtest2\u001b[0m\u001b[1;33m[\u001b[0m\u001b[1;34m'a'\u001b[0m\u001b[1;33m]\u001b[0m\u001b[1;33m,\u001b[0m \u001b[1;36m0.5\u001b[0m\u001b[1;33m)\u001b[0m\u001b[1;33m\u001b[0m\u001b[0m\n\u001b[0;32m      5\u001b[0m \u001b[1;32massert\u001b[0m \u001b[0mnp\u001b[0m\u001b[1;33m.\u001b[0m\u001b[0mallclose\u001b[0m\u001b[1;33m(\u001b[0m\u001b[0mtest2\u001b[0m\u001b[1;33m[\u001b[0m\u001b[1;34m'b'\u001b[0m\u001b[1;33m]\u001b[0m\u001b[1;33m,\u001b[0m \u001b[1;36m0.5\u001b[0m\u001b[1;33m)\u001b[0m\u001b[1;33m\u001b[0m\u001b[0m\n",
      "\u001b[1;31mAssertionError\u001b[0m: "
     ]
    }
   ],
   "source": [
    "test1 = char_probs('aaaa')\n",
    "assert np.allclose(test1['a'], 1.0)\n",
    "test2 = char_probs('aabb')\n",
    "assert np.allclose(test2['a'], 0.5)\n",
    "assert np.allclose(test2['b'], 0.5)\n",
    "test3 = char_probs('abcd')\n",
    "assert np.allclose(test3['a'], 0.25)\n",
    "assert np.allclose(test3['b'], 0.25)\n",
    "assert np.allclose(test3['c'], 0.25)\n",
    "assert np.allclose(test3['d'], 0.25)"
   ]
  },
  {
   "cell_type": "markdown",
   "metadata": {
    "nbgrader": {}
   },
   "source": [
    "The [entropy](http://en.wikipedia.org/wiki/Entropy_%28information_theory%29) is a quantiative measure of the disorder of a probability distribution. It is used extensively in Physics, Statistics, Machine Learning, Computer Science and Information Science. Given a set of probabilities $P_i$, the entropy is defined as:\n",
    "\n",
    "$$H = - \\Sigma_i P_i \\log_2(P_i)$$ \n",
    "\n",
    "In this expression $\\log_2$ is the base 2 log (`np.log2`), which is commonly used in information science. In Physics the natural log is often used in the definition of entropy.\n",
    "\n",
    "Write a funtion `entropy` that computes the entropy of a probability distribution. The probability distribution will be passed as a Python `dict`: the values in the `dict` will be the probabilities.\n",
    "\n",
    "To compute the entropy, you should:\n",
    "\n",
    "* First convert the values (probabilities) of the `dict` to a Numpy array of probabilities.\n",
    "* Then use other Numpy functions (`np.log2`, etc.) to compute the entropy.\n",
    "* Don't use any `for` or `while` loops in your code."
   ]
  },
  {
   "cell_type": "code",
   "execution_count": 25,
   "metadata": {
    "collapsed": false,
    "nbgrader": {
     "checksum": "93e205f7727df5161387fa73af53718b",
     "solution": true
    }
   },
   "outputs": [
    {
     "name": "stdout",
     "output_type": "stream",
     "text": [
      "3\n",
      "1\n"
     ]
    }
   ],
   "source": [
    "def entropy(d):\n",
    "    \"\"\"Compute the entropy of a dict d whose values are probabilities.\"\"\"\n",
    "\n",
    "d = {'1':2, '3':4}\n",
    "for item in d:\n",
    "    print(item)"
   ]
  },
  {
   "cell_type": "code",
   "execution_count": null,
   "metadata": {
    "collapsed": false,
    "deletable": false,
    "nbgrader": {
     "checksum": "0499a53c730bb4fbb2cd81d7c34486da",
     "grade": true,
     "grade_id": "algorithmsex03b",
     "points": 4
    }
   },
   "outputs": [],
   "source": [
    "assert np.allclose(entropy({'a': 0.5, 'b': 0.5}), 1.0)\n",
    "assert np.allclose(entropy({'a': 1.0}), 0.0)"
   ]
  },
  {
   "cell_type": "markdown",
   "metadata": {
    "nbgrader": {}
   },
   "source": [
    "Use IPython's `interact` function to create a user interface that allows you to type a string into a text box and see the entropy of the character probabilities of the string."
   ]
  },
  {
   "cell_type": "code",
   "execution_count": null,
   "metadata": {
    "collapsed": false,
    "deletable": false,
    "nbgrader": {
     "checksum": "6cff4e8e53b15273846c3aecaea84a3d",
     "solution": true
    }
   },
   "outputs": [],
   "source": [
    "# YOUR CODE HERE\n",
    "raise NotImplementedError()"
   ]
  },
  {
   "cell_type": "code",
   "execution_count": null,
   "metadata": {
    "collapsed": true,
    "deletable": false,
    "nbgrader": {
     "checksum": "2eeb2ebb1993a6f046deec7ff81c4930",
     "grade": true,
     "grade_id": "algorithmsex03c",
     "points": 2
    }
   },
   "outputs": [],
   "source": [
    "assert True # use this for grading the pi digits histogram"
   ]
  }
 ],
 "metadata": {
  "kernelspec": {
   "display_name": "Python 3",
   "language": "python",
   "name": "python3"
  },
  "language_info": {
   "codemirror_mode": {
    "name": "ipython",
    "version": 3
   },
   "file_extension": ".py",
   "mimetype": "text/x-python",
   "name": "python",
   "nbconvert_exporter": "python",
   "pygments_lexer": "ipython3",
   "version": "3.4.0"
  }
 },
 "nbformat": 4,
 "nbformat_minor": 0
}
